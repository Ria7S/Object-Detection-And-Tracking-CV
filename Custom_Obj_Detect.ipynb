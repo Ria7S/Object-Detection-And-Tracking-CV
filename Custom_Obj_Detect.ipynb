{
 "cells": [
  {
   "cell_type": "code",
   "execution_count": 1,
   "id": "d8006ca4-4360-456d-aa2d-e69612b603fc",
   "metadata": {},
   "outputs": [],
   "source": [
    "import cv2\n",
    "import numpy as np\n",
    "import time"
   ]
  },
  {
   "cell_type": "code",
   "execution_count": 2,
   "id": "e429d4ce-2ab3-40b1-b2a9-ba04c5a9b23f",
   "metadata": {},
   "outputs": [],
   "source": [
    "color_ranges = {\n",
    "    'white': ([0, 0, 200], [180, 20, 255]),\n",
    "    'green': ([35, 50, 50], [85, 255, 255]),\n",
    "    'orange': ([5, 50, 50], [15, 255, 255]),\n",
    "    'yellow': ([25, 50, 50], [35, 255, 255]),\n",
    "}"
   ]
  },
  {
   "cell_type": "code",
   "execution_count": 3,
   "id": "b9d05a0c-b3df-408a-8bc8-fd1865e4e73b",
   "metadata": {},
   "outputs": [],
   "source": [
    "def detect_color(frame, lower, upper):\n",
    "    mask = cv2.inRange(frame, np.array(lower), np.array(upper))\n",
    "    contours, _ = cv2.findContours(mask, cv2.RETR_TREE, cv2.CHAIN_APPROX_SIMPLE)\n",
    "    return contours"
   ]
  },
  {
   "cell_type": "code",
   "execution_count": 4,
   "id": "d4f4f166-855b-40f3-a93c-83bbb5014630",
   "metadata": {},
   "outputs": [],
   "source": [
    "def get_quadrant(x, y, width, height):\n",
    "    quadrant_width = width // 2\n",
    "    quadrant_height = height // 2\n",
    "\n",
    "    if x < quadrant_width and y < quadrant_height:\n",
    "        return 2\n",
    "    elif x >= quadrant_width and y < quadrant_height:\n",
    "        return 3\n",
    "    elif x < quadrant_width and y >= quadrant_height:\n",
    "        return 4\n",
    "    elif x >= quadrant_width and y >= quadrant_height:\n",
    "        return 1"
   ]
  },
  {
   "cell_type": "code",
   "execution_count": 5,
   "id": "55cbaf72-c8df-421d-bc1b-35de1dbb3dc7",
   "metadata": {},
   "outputs": [],
   "source": [
    "def main(video_path):\n",
    "    cap = cv2.VideoCapture(video_path)\n",
    "    frame_width = int(cap.get(3))\n",
    "    frame_height = int(cap.get(4))\n",
    "    out = cv2.VideoWriter('output.avi', cv2.VideoWriter_fourcc('M','J','P','G'), 10, (frame_width, frame_height))\n",
    "\n",
    "    last_positions = {color: None for color in color_ranges}\n",
    "    event_log = []\n",
    "\n",
    "    start_time = time.time()\n",
    "\n",
    "    while True:\n",
    "        ret, frame = cap.read()\n",
    "        if not ret:\n",
    "            break\n",
    "\n",
    "        hsv_frame = cv2.cvtColor(frame, cv2.COLOR_BGR2HSV)\n",
    "        current_time = time.time() - start_time\n",
    "\n",
    "        for color_name, (lower, upper) in color_ranges.items():\n",
    "            contours = detect_color(hsv_frame, np.array(lower), np.array(upper))\n",
    "            for contour in contours:\n",
    "                if cv2.contourArea(contour) > 100:\n",
    "                    x, y, w, h = cv2.boundingRect(contour)\n",
    "                    cx, cy = x + w // 2, y + h // 2\n",
    "                    current_quadrant = get_quadrant(cx, cy, frame_width, frame_height)\n",
    "\n",
    "                    if last_positions[color_name] is None:\n",
    "                        last_positions[color_name] = current_quadrant\n",
    "                        event_log.append((current_time, current_quadrant, color_name, 'Entry'))\n",
    "                    else:\n",
    "                        if last_positions[color_name] != current_quadrant:\n",
    "                            event_log.append((current_time, last_positions[color_name], color_name, 'Exit'))\n",
    "                            event_log.append((current_time, current_quadrant, color_name, 'Entry'))\n",
    "                            last_positions[color_name] = current_quadrant\n",
    "\n",
    "                    cv2.circle(frame, (cx, cy), 5, (0, 255, 0), -1)\n",
    "                    cv2.putText(frame, f'{color_name} Q{current_quadrant}', (x, y - 10), cv2.FONT_HERSHEY_SIMPLEX, 0.5, (255, 255, 255), 2)\n",
    "\n",
    "        out.write(frame)\n",
    "        cv2.imshow('Frame', frame)\n",
    "        if cv2.waitKey(1) & 0xFF == ord('q'):\n",
    "            break\n",
    "\n",
    "    cap.release()\n",
    "    out.release()\n",
    "    cv2.destroyAllWindows()\n",
    "\n",
    "    with open('events_log3.txt', 'w') as f:\n",
    "        for event in event_log:\n",
    "            f.write(f'{event[0]:.2f}, {event[1]}, {event[2]}, {event[3]}\\n')"
   ]
  },
  {
   "cell_type": "code",
   "execution_count": 6,
   "id": "4eae30b4-fa6d-474a-834c-f75a4a768b8c",
   "metadata": {},
   "outputs": [],
   "source": [
    "if __name__ == '__main__':\n",
    "    video_path = 'AI Assignment video.mp4'\n",
    "    main(video_path)"
   ]
  },
  {
   "cell_type": "code",
   "execution_count": null,
   "id": "c7bb9017-27f5-4a01-9d93-f2df1f725869",
   "metadata": {},
   "outputs": [],
   "source": []
  }
 ],
 "metadata": {
  "kernelspec": {
   "display_name": "Python 3 (ipykernel)",
   "language": "python",
   "name": "python3"
  },
  "language_info": {
   "codemirror_mode": {
    "name": "ipython",
    "version": 3
   },
   "file_extension": ".py",
   "mimetype": "text/x-python",
   "name": "python",
   "nbconvert_exporter": "python",
   "pygments_lexer": "ipython3",
   "version": "3.12.4"
  }
 },
 "nbformat": 4,
 "nbformat_minor": 5
}
